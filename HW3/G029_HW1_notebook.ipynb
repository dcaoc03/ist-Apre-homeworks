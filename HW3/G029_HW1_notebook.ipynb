{
 "cells": [
  {
   "cell_type": "markdown",
   "metadata": {},
   "source": [
    "# Homework 3 - Machine Learning\n",
    "### ist1103000, Pedro Lima     ; ist1103179, Diogo Costa (Group 029)"
   ]
  },
  {
   "cell_type": "markdown",
   "metadata": {},
   "source": [
    "#### II. Programming\n",
    "### 1)"
   ]
  },
  {
   "cell_type": "code",
   "execution_count": 1,
   "metadata": {},
   "outputs": [
    {
     "data": {
      "text/html": [
       "<div>\n",
       "<style scoped>\n",
       "    .dataframe tbody tr th:only-of-type {\n",
       "        vertical-align: middle;\n",
       "    }\n",
       "\n",
       "    .dataframe tbody tr th {\n",
       "        vertical-align: top;\n",
       "    }\n",
       "\n",
       "    .dataframe thead th {\n",
       "        text-align: right;\n",
       "    }\n",
       "</style>\n",
       "<table border=\"1\" class=\"dataframe\">\n",
       "  <thead>\n",
       "    <tr style=\"text-align: right;\">\n",
       "      <th></th>\n",
       "      <th>fixed acidity</th>\n",
       "      <th>volatile acidity</th>\n",
       "      <th>citric acid</th>\n",
       "      <th>residual sugar</th>\n",
       "      <th>chlorides</th>\n",
       "      <th>free sulfur dioxide</th>\n",
       "      <th>total sulfur dioxide</th>\n",
       "      <th>density</th>\n",
       "      <th>pH</th>\n",
       "      <th>sulphates</th>\n",
       "      <th>alcohol</th>\n",
       "      <th>quality</th>\n",
       "    </tr>\n",
       "  </thead>\n",
       "  <tbody>\n",
       "    <tr>\n",
       "      <th>0</th>\n",
       "      <td>7.4</td>\n",
       "      <td>0.70</td>\n",
       "      <td>0.00</td>\n",
       "      <td>1.9</td>\n",
       "      <td>0.076</td>\n",
       "      <td>11.0</td>\n",
       "      <td>34.0</td>\n",
       "      <td>0.9978</td>\n",
       "      <td>3.51</td>\n",
       "      <td>0.56</td>\n",
       "      <td>9.4</td>\n",
       "      <td>5</td>\n",
       "    </tr>\n",
       "    <tr>\n",
       "      <th>1</th>\n",
       "      <td>7.8</td>\n",
       "      <td>0.88</td>\n",
       "      <td>0.00</td>\n",
       "      <td>2.6</td>\n",
       "      <td>0.098</td>\n",
       "      <td>25.0</td>\n",
       "      <td>67.0</td>\n",
       "      <td>0.9968</td>\n",
       "      <td>3.20</td>\n",
       "      <td>0.68</td>\n",
       "      <td>9.8</td>\n",
       "      <td>5</td>\n",
       "    </tr>\n",
       "    <tr>\n",
       "      <th>2</th>\n",
       "      <td>7.8</td>\n",
       "      <td>0.76</td>\n",
       "      <td>0.04</td>\n",
       "      <td>2.3</td>\n",
       "      <td>0.092</td>\n",
       "      <td>15.0</td>\n",
       "      <td>54.0</td>\n",
       "      <td>0.9970</td>\n",
       "      <td>3.26</td>\n",
       "      <td>0.65</td>\n",
       "      <td>9.8</td>\n",
       "      <td>5</td>\n",
       "    </tr>\n",
       "    <tr>\n",
       "      <th>3</th>\n",
       "      <td>11.2</td>\n",
       "      <td>0.28</td>\n",
       "      <td>0.56</td>\n",
       "      <td>1.9</td>\n",
       "      <td>0.075</td>\n",
       "      <td>17.0</td>\n",
       "      <td>60.0</td>\n",
       "      <td>0.9980</td>\n",
       "      <td>3.16</td>\n",
       "      <td>0.58</td>\n",
       "      <td>9.8</td>\n",
       "      <td>6</td>\n",
       "    </tr>\n",
       "    <tr>\n",
       "      <th>4</th>\n",
       "      <td>7.4</td>\n",
       "      <td>0.70</td>\n",
       "      <td>0.00</td>\n",
       "      <td>1.9</td>\n",
       "      <td>0.076</td>\n",
       "      <td>11.0</td>\n",
       "      <td>34.0</td>\n",
       "      <td>0.9978</td>\n",
       "      <td>3.51</td>\n",
       "      <td>0.56</td>\n",
       "      <td>9.4</td>\n",
       "      <td>5</td>\n",
       "    </tr>\n",
       "  </tbody>\n",
       "</table>\n",
       "</div>"
      ],
      "text/plain": [
       "   fixed acidity  volatile acidity  citric acid  residual sugar  chlorides  \\\n",
       "0            7.4              0.70         0.00             1.9      0.076   \n",
       "1            7.8              0.88         0.00             2.6      0.098   \n",
       "2            7.8              0.76         0.04             2.3      0.092   \n",
       "3           11.2              0.28         0.56             1.9      0.075   \n",
       "4            7.4              0.70         0.00             1.9      0.076   \n",
       "\n",
       "   free sulfur dioxide  total sulfur dioxide  density    pH  sulphates  \\\n",
       "0                 11.0                  34.0   0.9978  3.51       0.56   \n",
       "1                 25.0                  67.0   0.9968  3.20       0.68   \n",
       "2                 15.0                  54.0   0.9970  3.26       0.65   \n",
       "3                 17.0                  60.0   0.9980  3.16       0.58   \n",
       "4                 11.0                  34.0   0.9978  3.51       0.56   \n",
       "\n",
       "   alcohol  quality  \n",
       "0      9.4        5  \n",
       "1      9.8        5  \n",
       "2      9.8        5  \n",
       "3      9.8        6  \n",
       "4      9.4        5  "
      ]
     },
     "execution_count": 1,
     "metadata": {},
     "output_type": "execute_result"
    }
   ],
   "source": [
    "import pandas as pd\n",
    "\n",
    "import warnings\n",
    "warnings.filterwarnings(\"ignore\")\n",
    "  \n",
    "wine = pd.read_csv(\"winequality-red.csv\", sep=\";\")\n",
    "  \n",
    "wine.head()"
   ]
  },
  {
   "cell_type": "code",
   "execution_count": 2,
   "metadata": {},
   "outputs": [],
   "source": [
    "input_vars = wine.drop(\"quality\", axis=1)\n",
    "output_vars = wine[\"quality\"]"
   ]
  },
  {
   "cell_type": "code",
   "execution_count": 3,
   "metadata": {},
   "outputs": [
    {
     "name": "stdout",
     "output_type": "stream",
     "text": [
      "#training obs = 1279 \n",
      "#testing obs = 320\n"
     ]
    }
   ],
   "source": [
    "from sklearn.model_selection import train_test_split\n",
    "\n",
    "X_train, X_test, y_train, y_test = train_test_split(input_vars, output_vars, stratify=output_vars, train_size=0.8, random_state=0)\n",
    "print(\"#training obs =\",len(X_train),\"\\n#testing obs =\",len(X_test))"
   ]
  },
  {
   "cell_type": "code",
   "execution_count": 4,
   "metadata": {},
   "outputs": [],
   "source": [
    "from sklearn.neural_network import MLPRegressor\n",
    "\n",
    "\n",
    "all_residuals = []\n",
    "\n",
    "for it in range(10):\n",
    "    MLP_regressor = MLPRegressor(random_state=(it+1), hidden_layer_sizes=(10,10), activation=\"relu\", early_stopping=True, validation_fraction=0.2)\n",
    "    MLP_regressor.fit(X_train, y_train)\n",
    "\n",
    "    y_pred_test = MLP_regressor.predict(X_test)\n",
    "\n",
    "    residual = abs(y_pred_test - y_test)\n",
    "    all_residuals.extend(residual)\n"
   ]
  },
  {
   "cell_type": "code",
   "execution_count": 5,
   "metadata": {},
   "outputs": [
    {
     "data": {
      "image/png": "[encoded data removed]",
      "text/plain": [
       "<Figure size 640x480 with 1 Axes>"
      ]
     },
     "metadata": {},
     "output_type": "display_data"
    }
   ],
   "source": [
    "import seaborn as sns\n",
    "\n",
    "plot = sns.histplot(data= all_residuals).set(title=\"Distribution of residuals\", xlabel=\"Residuals\")\n",
    "\n"
   ]
  },
  {
   "cell_type": "markdown",
   "metadata": {},
   "source": [
    "### 2)"
   ]
  },
  {
   "cell_type": "code",
   "execution_count": 6,
   "metadata": {},
   "outputs": [
    {
     "name": "stdout",
     "output_type": "stream",
     "text": [
      "MAE without bounding and rounding:  0.5437511706983347\n",
      "MAE with bounding and rounding:  0.49281250000000004\n"
     ]
    }
   ],
   "source": [
    "from sklearn.metrics import mean_absolute_error, mean_squared_error\n",
    "\n",
    "MAE_no_round = 0\n",
    "MAE_round = 0\n",
    "RMSE_no_round = 0       # used in 3)\n",
    "\n",
    "for it in range(10):\n",
    "    MLP_regressor = MLPRegressor(random_state=(it+1), hidden_layer_sizes=(10,10), activation=\"relu\", early_stopping=True, validation_fraction=0.2)\n",
    "    MLP_regressor = MLP_regressor.fit(X_train, y_train)\n",
    "    y_pred_test = MLP_regressor.predict(X_test)\n",
    "    y_pred_test_round = [10 if x>10 else 1 if x<1 else round(x) for x in y_pred_test]\n",
    "\n",
    "    MAE_no_round += mean_absolute_error(y_test, y_pred_test)\n",
    "    MAE_round += mean_absolute_error(y_test, y_pred_test_round)\n",
    "    RMSE_no_round += mean_squared_error(y_test, y_pred_test, squared=False)\n",
    "\n",
    "MAE_no_round /= 10\n",
    "MAE_round /= 10\n",
    "RMSE_no_round /= 10\n",
    "\n",
    "print(\"MAE without bounding and rounding: \", MAE_no_round)\n",
    "print(\"MAE with bounding and rounding: \", MAE_round)"
   ]
  },
  {
   "cell_type": "markdown",
   "metadata": {},
   "source": [
    "As is possible to verify above, we can assess that rounding our estimates reduces the MAE when compared to the MLP learnt in the previous question."
   ]
  },
  {
   "cell_type": "markdown",
   "metadata": {},
   "source": [
    "### 3)"
   ]
  },
  {
   "cell_type": "code",
   "execution_count": 7,
   "metadata": {},
   "outputs": [
    {
     "name": "stdout",
     "output_type": "stream",
     "text": [
      "Early stop RMSE:  0.7285645002031444\n",
      "20 iterations RMSE: 1.5741537078556829\n",
      "50 iterations RMSE: 0.9296215581878041\n",
      "100 iterations RMSE: 0.7495674512113977\n",
      "200 iterations RMSE: 0.697002682560151\n"
     ]
    }
   ],
   "source": [
    "rmse_early_stop = RMSE_no_round\n",
    "\n",
    "n_iterations = [20, 50, 100, 200]\n",
    "\n",
    "rmse_it = []\n",
    "y_pred_test2 = [0]*y_test.size\n",
    "\n",
    "for it in n_iterations:\n",
    "    rmse = 0\n",
    "    for it2 in range(10):\n",
    "        MLP_regressor2 = MLPRegressor(random_state=(it2+1), hidden_layer_sizes=(10,10), activation=\"relu\", early_stopping=False, max_iter=it)\n",
    "        MLP_regressor2.fit(X_train, y_train)\n",
    "        y_pred_test2 = MLP_regressor2.predict(X_test)\n",
    "\n",
    "        rmse += mean_squared_error(y_test, y_pred_test2, squared=False)\n",
    "\n",
    "    y_pred_test2 /= 10\n",
    "    rmse /= 10\n",
    "    rmse_it.append(rmse)\n",
    "\n",
    "print(\"Early stop RMSE: \", rmse_early_stop)\n",
    "for i in range(4):\n",
    "    print(str(n_iterations[i]) + \" iterations RMSE: \" + str(rmse_it[i]))"
   ]
  },
  {
   "cell_type": "markdown",
   "metadata": {},
   "source": [
    "### 4)"
   ]
  },
  {
   "cell_type": "markdown",
   "metadata": {},
   "source": [
    "By analysing the results above, we are able to infer that early stopping has a lower RMSE, and an overall better performance, when compared to having a well-defined number of iterations (especially when that number doesn't exceed 100 iterations). This may be the case mainly because of overfitting, since the regressor with early stopping stops training when the validation score is not improving, leading to a better generalization capacity when compared to a fixed number of iterations, which relies too much on the training set. It is also possible to note that, as the number of iterations increases, the RMSE doesn't decrease significantly, meaning that more iterations doesn't necessarily mean better performance."
   ]
  }
 ],
 "metadata": {
  "kernelspec": {
   "display_name": "Python 3",
   "language": "python",
   "name": "python3"
  },
  "language_info": {
   "codemirror_mode": {
    "name": "ipython",
    "version": 3
   },
   "file_extension": ".py",
   "mimetype": "text/x-python",
   "name": "python",
   "nbconvert_exporter": "python",
   "pygments_lexer": "ipython3",
   "version": "3.8.10"
  }
 },
 "nbformat": 4,
 "nbformat_minor": 2
}
