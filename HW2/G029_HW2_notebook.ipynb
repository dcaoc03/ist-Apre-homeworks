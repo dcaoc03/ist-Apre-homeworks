{
 "cells": [
  {
   "cell_type": "markdown",
   "metadata": {},
   "source": [
    "# Homework 2 - Machine Learning\n",
    "### ist1103000, Pedro Lima     ; ist1103179, Diogo Costa (Group 029)"
   ]
  },
  {
   "cell_type": "markdown",
   "metadata": {},
   "source": [
    "#### II. Programming\n",
    "### 1)\n",
    "#### a)"
   ]
  },
  {
   "cell_type": "code",
   "execution_count": 18,
   "metadata": {},
   "outputs": [
    {
     "data": {
      "text/html": [
       "<div>\n",
       "<style scoped>\n",
       "    .dataframe tbody tr th:only-of-type {\n",
       "        vertical-align: middle;\n",
       "    }\n",
       "\n",
       "    .dataframe tbody tr th {\n",
       "        vertical-align: top;\n",
       "    }\n",
       "\n",
       "    .dataframe thead th {\n",
       "        text-align: right;\n",
       "    }\n",
       "</style>\n",
       "<table border=\"1\" class=\"dataframe\">\n",
       "  <thead>\n",
       "    <tr style=\"text-align: right;\">\n",
       "      <th></th>\n",
       "      <th>pelvic_incidence</th>\n",
       "      <th>pelvic_tilt</th>\n",
       "      <th>lumbar_lordosis_angle</th>\n",
       "      <th>sacral_slope</th>\n",
       "      <th>pelvic_radius</th>\n",
       "      <th>degree_spondylolisthesis</th>\n",
       "      <th>class</th>\n",
       "    </tr>\n",
       "  </thead>\n",
       "  <tbody>\n",
       "    <tr>\n",
       "      <th>0</th>\n",
       "      <td>63.027817</td>\n",
       "      <td>22.552586</td>\n",
       "      <td>39.609117</td>\n",
       "      <td>40.475232</td>\n",
       "      <td>98.672917</td>\n",
       "      <td>-0.254400</td>\n",
       "      <td>Hernia</td>\n",
       "    </tr>\n",
       "    <tr>\n",
       "      <th>1</th>\n",
       "      <td>39.056951</td>\n",
       "      <td>10.060991</td>\n",
       "      <td>25.015378</td>\n",
       "      <td>28.995960</td>\n",
       "      <td>114.405425</td>\n",
       "      <td>4.564259</td>\n",
       "      <td>Hernia</td>\n",
       "    </tr>\n",
       "    <tr>\n",
       "      <th>2</th>\n",
       "      <td>68.832021</td>\n",
       "      <td>22.218482</td>\n",
       "      <td>50.092194</td>\n",
       "      <td>46.613539</td>\n",
       "      <td>105.985135</td>\n",
       "      <td>-3.530317</td>\n",
       "      <td>Hernia</td>\n",
       "    </tr>\n",
       "    <tr>\n",
       "      <th>3</th>\n",
       "      <td>69.297008</td>\n",
       "      <td>24.652878</td>\n",
       "      <td>44.311238</td>\n",
       "      <td>44.644130</td>\n",
       "      <td>101.868495</td>\n",
       "      <td>11.211523</td>\n",
       "      <td>Hernia</td>\n",
       "    </tr>\n",
       "    <tr>\n",
       "      <th>4</th>\n",
       "      <td>49.712859</td>\n",
       "      <td>9.652075</td>\n",
       "      <td>28.317406</td>\n",
       "      <td>40.060784</td>\n",
       "      <td>108.168725</td>\n",
       "      <td>7.918501</td>\n",
       "      <td>Hernia</td>\n",
       "    </tr>\n",
       "  </tbody>\n",
       "</table>\n",
       "</div>"
      ],
      "text/plain": [
       "   pelvic_incidence  pelvic_tilt  lumbar_lordosis_angle  sacral_slope  \\\n",
       "0         63.027817    22.552586              39.609117     40.475232   \n",
       "1         39.056951    10.060991              25.015378     28.995960   \n",
       "2         68.832021    22.218482              50.092194     46.613539   \n",
       "3         69.297008    24.652878              44.311238     44.644130   \n",
       "4         49.712859     9.652075              28.317406     40.060784   \n",
       "\n",
       "   pelvic_radius  degree_spondylolisthesis   class  \n",
       "0      98.672917                 -0.254400  Hernia  \n",
       "1     114.405425                  4.564259  Hernia  \n",
       "2     105.985135                 -3.530317  Hernia  \n",
       "3     101.868495                 11.211523  Hernia  \n",
       "4     108.168725                  7.918501  Hernia  "
      ]
     },
     "execution_count": 18,
     "metadata": {},
     "output_type": "execute_result"
    }
   ],
   "source": [
    "import pandas as pd\n",
    "from scipy.io.arff import loadarff\n",
    "\n",
    "data = loadarff('column_diagnosis.arff')\n",
    "df = pd.DataFrame(data[0])\n",
    "df['class'] = df['class'].str.decode('utf-8')\n",
    "df.head()"
   ]
  },
  {
   "cell_type": "code",
   "execution_count": 13,
   "metadata": {},
   "outputs": [
    {
     "name": "stdout",
     "output_type": "stream",
     "text": [
      "[0.94, 0.81, 0.87, 0.94, 0.74, 0.87, 0.84, 0.84, 0.77, 0.77]\n",
      "[0.84, 0.87, 0.84, 0.87, 0.77, 0.84, 0.9, 0.81, 0.77, 0.71]\n"
     ]
    }
   ],
   "source": [
    "from sklearn import metrics\n",
    "from sklearn.neighbors import KNeighborsClassifier\n",
    "from sklearn.naive_bayes import GaussianNB\n",
    "\n",
    "from sklearn.model_selection import StratifiedKFold\n",
    "\n",
    "input_vars = df.drop(\"class\", axis=1)\n",
    "output_vars = df[\"class\"]\n",
    "\n",
    "knn_classifier = KNeighborsClassifier(n_neighbors=5)\n",
    "naive_bayes_calssifier = GaussianNB()\n",
    "\n",
    "folds = StratifiedKFold(n_splits=10, shuffle=True, random_state=0)\n",
    "knn_fold_accuracies = []\n",
    "naive_bayes_fold_accuracies = []\n",
    "for train_k, test_k in folds.split(input_vars, output_vars):\n",
    "    X_train, X_test = input_vars.iloc[train_k], input_vars.iloc[test_k]\n",
    "    y_train, y_test = output_vars.iloc[train_k], output_vars.iloc[test_k]\n",
    "    \n",
    "    knn_classifier.fit(X_train, y_train)\n",
    "    y_pred = knn_classifier.predict(X_test)\n",
    "    knn_fold_accuracies.append(round(metrics.accuracy_score(y_test, y_pred),2))\n",
    "\n",
    "    naive_bayes_calssifier.fit(X_train, y_train)\n",
    "    y_pred = naive_bayes_calssifier.predict(X_test)\n",
    "    naive_bayes_fold_accuracies.append(round(metrics.accuracy_score(y_test, y_pred),2))\n",
    "\n",
    "print(knn_fold_accuracies)\n",
    "print(naive_bayes_fold_accuracies)"
   ]
  },
  {
   "cell_type": "code",
   "execution_count": 14,
   "metadata": {},
   "outputs": [
    {
     "data": {
      "image/png": "[encoded data removed]",
      "text/plain": [
       "<Figure size 640x480 with 1 Axes>"
      ]
     },
     "metadata": {},
     "output_type": "display_data"
    }
   ],
   "source": [
    "import matplotlib.pyplot as plt\n",
    "import seaborn as sns\n",
    "\n",
    "df = pd.DataFrame({'Accuracies': knn_fold_accuracies+naive_bayes_fold_accuracies, 'Classifier': [\"KNN\"]*10+[\"Bayesian\"]*10})\n",
    "sns.boxplot(data=df, x='Classifier', y='Accuracies', width=0.4).set(title='Fold accuracies by classifier')\n",
    "plt.show()"
   ]
  },
  {
   "cell_type": "markdown",
   "metadata": {},
   "source": [
    "#### b)"
   ]
  },
  {
   "cell_type": "code",
   "execution_count": 15,
   "metadata": {},
   "outputs": [
    {
     "name": "stdout",
     "output_type": "stream",
     "text": [
      "TtestResult(statistic=0.9923982173934255, pvalue=0.8265333762138204, df=9)\n"
     ]
    }
   ],
   "source": [
    "from scipy.stats import ttest_rel\n",
    "\n",
    "test_results = ttest_rel(knn_fold_accuracies, naive_bayes_fold_accuracies, alternative='less')\n",
    "print(test_results)"
   ]
  },
  {
   "cell_type": "markdown",
   "metadata": {},
   "source": [
    "Since our alternative hypothesis is the KNN accuracy mean being similar to the Bayesian accuracy mean and the value obtained is about 82,70%, we can't reject the alterantive hypothesis for standard significance levels, so we can't certainly assume that the null hypothesis is true."
   ]
  },
  {
   "cell_type": "markdown",
   "metadata": {},
   "source": [
    "### 2)"
   ]
  },
  {
   "cell_type": "code",
   "execution_count": 16,
   "metadata": {},
   "outputs": [
    {
     "name": "stdout",
     "output_type": "stream",
     "text": [
      "[[ 37  23   0]\n",
      " [ 14  80   6]\n",
      " [  1   7 142]]\n",
      "[[ 39  21   0]\n",
      " [ 19  78   3]\n",
      " [  1   6 143]]\n"
     ]
    },
    {
     "data": {
      "image/png": "[encoded data removed]",
      "text/plain": [
       "<Figure size 640x480 with 2 Axes>"
      ]
     },
     "metadata": {},
     "output_type": "display_data"
    }
   ],
   "source": [
    "from sklearn.metrics import confusion_matrix\n",
    "from functools import reduce\n",
    "\n",
    "knn_classifier_1 = KNeighborsClassifier(n_neighbors=1, metric=\"euclidean\")\n",
    "knn_classifier_5 = KNeighborsClassifier(n_neighbors=5, metric=\"euclidean\")\n",
    "\n",
    "confusion_matrix_knn1 = []\n",
    "confusion_matrix_knn5 = []\n",
    "for train_k, test_k in folds.split(input_vars, output_vars):\n",
    "    X_train, X_test = input_vars.iloc[train_k], input_vars.iloc[test_k]\n",
    "    y_train, y_test = output_vars.iloc[train_k], output_vars.iloc[test_k]\n",
    "    \n",
    "    knn_classifier_1.fit(X_train, y_train)\n",
    "    y_pred = knn_classifier_1.predict(X_test)\n",
    "    cm = confusion_matrix(y_test, y_pred, labels=[\"Hernia\" , \"Normal\", \"Spondylolisthesis\"])\n",
    "    confusion_matrix_knn1.append(cm)\n",
    "\n",
    "    knn_classifier_5.fit(X_train, y_train)\n",
    "    y_pred = knn_classifier_5.predict(X_test)\n",
    "    cm = confusion_matrix(y_test, y_pred, labels=[\"Hernia\" , \"Normal\", \"Spondylolisthesis\"])\n",
    "    confusion_matrix_knn5.append(cm)\n",
    "\n",
    "cumulative_cm_knn1 = (reduce(lambda a,b: a+b, confusion_matrix_knn1))\n",
    "cumulative_cm_knn5 = (reduce(lambda a,b: a+b, confusion_matrix_knn5))\n",
    "\n",
    "print(cumulative_cm_knn1)\n",
    "print(cumulative_cm_knn5)\n",
    "\n",
    "diff_cm = cumulative_cm_knn1 - cumulative_cm_knn5\n",
    "\n",
    "ax = sns.heatmap(diff_cm, annot=True, cmap='Blues')\n",
    "\n",
    "ax.set_title('Difference between KNN1 and KNN5 Confusion Matrices\\n')\n",
    "ax.set_xlabel('\\nPredicted Values')\n",
    "ax.set_ylabel('Actual Values ')\n",
    "\n",
    "## Ticket labels - List must be in alphabetical order\n",
    "ax.xaxis.set_ticklabels([\"Hernia\",\"Normal\",\"Spondylolisthesis\"])\n",
    "ax.yaxis.set_ticklabels([\"Hernia\",\"Normal\",\"Spondylolisthesis\"])\n",
    "\n",
    "## Display the visualization of the Confusion Matrix.\n",
    "plt.show()\n"
   ]
  },
  {
   "cell_type": "markdown",
   "metadata": {},
   "source": [
    "By analyzing the previous plot, we can infer that there isn't much of a difference between the observations registered using KNN1 and KNN5 (it goes neither under -5 nor more than 2), concluding that both approaches end up having a similar behavior."
   ]
  },
  {
   "cell_type": "markdown",
   "metadata": {},
   "source": [
    "### 3)"
   ]
  },
  {
   "cell_type": "markdown",
   "metadata": {},
   "source": [
    "When learning from column_diagnosis using the Naïves Bayes approach, we are assuming independence among every input variable, which may not be the case since we don't know how the variables are related, possibly leading to incorrect results (in this dataset, for example, we have three features related to \"pelvis\", so they are more likely related than not). Also, our dataset only has continuous features and so our results may not be optimal, since some of those features may not follow a Gaussian distribution, as the Naïve Bayes approach assumes. This approach is also affected by the presence of irrelevant data and/or variables and may give them unnecessary importance when making predictions."
   ]
  }
 ],
 "metadata": {
  "kernelspec": {
   "display_name": "Python 3",
   "language": "python",
   "name": "python3"
  },
  "language_info": {
   "codemirror_mode": {
    "name": "ipython",
    "version": 3
   },
   "file_extension": ".py",
   "mimetype": "text/x-python",
   "name": "python",
   "nbconvert_exporter": "python",
   "pygments_lexer": "ipython3",
   "version": "3.8.10"
  }
 },
 "nbformat": 4,
 "nbformat_minor": 2
}
